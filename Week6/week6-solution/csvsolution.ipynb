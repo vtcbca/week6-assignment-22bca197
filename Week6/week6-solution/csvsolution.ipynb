{
 "cells": [
  {
   "cell_type": "markdown",
   "id": "4454edcf",
   "metadata": {},
   "source": [
    "### 1. Create a result table which contain student id, student name and 5 subject marks."
   ]
  },
  {
   "cell_type": "code",
   "execution_count": 1,
   "id": "3aafdb90",
   "metadata": {},
   "outputs": [],
   "source": [
    "import sqlite3"
   ]
  },
  {
   "cell_type": "code",
   "execution_count": 3,
   "id": "027ef87a",
   "metadata": {},
   "outputs": [],
   "source": [
    "con=sqlite3.connect('D://22bca197//result_database2.db')\n"
   ]
  },
  {
   "cell_type": "code",
   "execution_count": 4,
   "id": "15e6666c",
   "metadata": {},
   "outputs": [],
   "source": [
    "\n",
    "cur=con.cursor()\n"
   ]
  },
  {
   "cell_type": "code",
   "execution_count": 5,
   "id": "3747528d",
   "metadata": {},
   "outputs": [],
   "source": [
    "create_table='''create table if not exists result_tbl\n",
    "              (\n",
    "                  Student_id int Primary key,\n",
    "                  Student_name text NOT NULL,\n",
    "                  subject1_marks int,\n",
    "                  subject2_marks int,\n",
    "                  subject3_marks int,\n",
    "                  subject4_marks int,\n",
    "                  subject5_marks int)'''"
   ]
  },
  {
   "cell_type": "code",
   "execution_count": 7,
   "id": "9d742df0",
   "metadata": {},
   "outputs": [
    {
     "data": {
      "text/plain": [
       "<sqlite3.Cursor at 0x196b54d0ce0>"
      ]
     },
     "execution_count": 7,
     "metadata": {},
     "output_type": "execute_result"
    }
   ],
   "source": [
    "cur.execute(create_table)"
   ]
  },
  {
   "cell_type": "markdown",
   "id": "f886d3b2",
   "metadata": {},
   "source": [
    "### 2. Enter 10 studnet details with its marks."
   ]
  },
  {
   "cell_type": "code",
   "execution_count": 8,
   "id": "a09f1f46",
   "metadata": {},
   "outputs": [],
   "source": [
    "insert_record='''insert into result_tbl values(1,'om',67,78,77,88,56),\n",
    "                                              (2,'Sai',75,77,65,87,66),\n",
    "                                              (3,'Ram ',67,78,77,88,56),\n",
    "                                              (4,'Radha',49,35,45,58,60),\n",
    "                                              (5,'Shiv ',55,40,67,68,56),\n",
    "                                              (6,'Shivam',92,93,96,88,85),\n",
    "                                              (7,'Krisha',29,35,43,40,51),\n",
    "                                              (8,'Karan',70,65,55,62,56),\n",
    "                                              (9,'mahira',87,85,77,70,88),\n",
    "                                              (10,'janvi',89,98,87,88,86)'''\n"
   ]
  },
  {
   "cell_type": "code",
   "execution_count": 9,
   "id": "64373c55",
   "metadata": {},
   "outputs": [
    {
     "data": {
      "text/plain": [
       "<sqlite3.Cursor at 0x196b54d0ce0>"
      ]
     },
     "execution_count": 9,
     "metadata": {},
     "output_type": "execute_result"
    }
   ],
   "source": [
    "cur.execute(insert_record)"
   ]
  },
  {
   "cell_type": "code",
   "execution_count": 10,
   "id": "fc44e9f7",
   "metadata": {},
   "outputs": [],
   "source": [
    "records='select * from result_tbl'\n",
    "cur.execute(records)\n",
    "data=cur.fetchall()"
   ]
  },
  {
   "cell_type": "markdown",
   "id": "f79de9db",
   "metadata": {},
   "source": [
    "### 3. Dump table into csv file \"result.csv\"."
   ]
  },
  {
   "cell_type": "code",
   "execution_count": 11,
   "id": "57e315d2",
   "metadata": {},
   "outputs": [],
   "source": [
    "import csv"
   ]
  },
  {
   "cell_type": "code",
   "execution_count": 12,
   "id": "fe83d13b",
   "metadata": {},
   "outputs": [],
   "source": [
    "with open('D://22bca197//result.csv', 'w+', newline='') as file:\n",
    "    fileobj = csv.writer(file)\n",
    "    head = ['Student_ID', 'Student_Name', 'Subject1_Marks', 'Subject2_Marks', 'Subject3_Marks', 'Subject4_Marks', 'Subject5_Marks']\n",
    "    fileobj.writerow(head)\n",
    "    fileobj.writerows(data)"
   ]
  },
  {
   "cell_type": "markdown",
   "id": "07081aa5",
   "metadata": {},
   "source": [
    "### 4. Read result.csv file and Print Total Marks and Grade of each student. Also Append Total Marks and Grade column into result.csv file."
   ]
  },
  {
   "cell_type": "code",
   "execution_count": 24,
   "id": "924cf1f1",
   "metadata": {},
   "outputs": [
    {
     "name": "stdout",
     "output_type": "stream",
     "text": [
      "Student_ID,Student_Name,Subject1_Marks,Subject2_Marks,Subject3_Marks,Subject4_Marks,Subject5_Marks,Total_Marks,Percentage,Grade\r\n",
      "\n",
      "1,om,67,78,77,88,56,366,73.2,B\r\n",
      "\n",
      "2,Sai,75,77,65,87,66,370,74.0,B\r\n",
      "\n",
      "3,Ram ,67,78,77,88,56,366,73.2,B\r\n",
      "\n",
      "4,Radha,49,35,45,58,60,247,49.4,D\r\n",
      "\n",
      "5,Shiv ,55,40,67,68,56,286,57.199999999999996,C\r\n",
      "\n",
      "6,Shivam,92,93,96,88,85,454,90.8,A+\r\n",
      "\n",
      "7,Krisha,29,35,43,40,51,198,39.6,D\r\n",
      "\n",
      "8,Karan,70,65,55,62,56,308,61.6,C\r\n",
      "\n",
      "9,mahira,87,85,77,70,88,407,81.39999999999999,A\r\n",
      "\n",
      "10,janvi,89,98,87,88,86,448,89.60000000000001,A\r\n",
      "\n"
     ]
    }
   ],
   "source": [
    "with open('D://22bca197//result.csv', 'r', newline='') as file, open('D://22bca197//mainresult2.csv', 'w+', newline='') as file2:\n",
    "    a=csv.reader(file)\n",
    "    fileobj=csv.writer(file2)\n",
    "    head=next(a)\n",
    "    head.extend(['Total_Marks','Percentage','Grade'])\n",
    "    fileobj.writerow(head)\n",
    "    for i in a:\n",
    "        totalmarks=int(i[2])+int(i[3])+int(i[4])+int(i[5])+int(i[6])\n",
    "        i.append(totalmarks)\n",
    "        percentage=i[7]/500*100\n",
    "        if percentage >= 90:\n",
    "            grade = 'A+'\n",
    "        elif percentage >= 80:\n",
    "            grade = 'A'\n",
    "        elif percentage >= 70:\n",
    "            grade = 'B'\n",
    "        elif percentage >=55 and percentage < 70:\n",
    "            grade = 'C'\n",
    "        elif percentage >=30 and percentage < 55 :\n",
    "            grade = 'D'\n",
    "        else:\n",
    "            grade = 'Fail'\n",
    "        i.extend([percentage,grade])\n",
    "        fileobj.writerow(i)\n",
    "    file2.seek(0)\n",
    "    \n",
    "    allrecords = file2.readlines()\n",
    "    for record in allrecords: \n",
    "            print(record)"
   ]
  },
  {
   "cell_type": "markdown",
   "id": "0527d811",
   "metadata": {},
   "source": [
    "### 5. List out Top 3 Student id and name with its percentage."
   ]
  },
  {
   "cell_type": "code",
   "execution_count": 25,
   "id": "f70a01a1",
   "metadata": {},
   "outputs": [
    {
     "name": "stdout",
     "output_type": "stream",
     "text": [
      " Student_ID      Student_Name       Percentage   \n",
      "-----------------------------------------------------\n",
      "     6              Shivam             90.8       \n",
      "     10             janvi         89.60000000000001 \n",
      "     9              mahira        81.39999999999999 \n"
     ]
    }
   ],
   "source": [
    "with open('D://22bca197//mainresult2.csv', 'r', newline='') as file2:\n",
    "    head = next(file2)\n",
    "    header = \"{:^12} {:^20} {:^15}\\n-----------------------------------------------------\".format('Student_ID', 'Student_Name', 'Percentage')\n",
    "    print(header)\n",
    "    d = csv.reader(file2)\n",
    "    d = sorted(d, key=lambda stud: stud[8], reverse=True)\n",
    "    c=0\n",
    "\n",
    "    for i in d:\n",
    "        record_line = \"{:^12} {:^20} {:^15} \".format(i[0], i[1], i[8])\n",
    "        print(record_line)\n",
    "        c+=1\n",
    "        if c==3:\n",
    "            break"
   ]
  },
  {
   "cell_type": "code",
   "execution_count": null,
   "id": "844d3e2e",
   "metadata": {},
   "outputs": [],
   "source": []
  }
 ],
 "metadata": {
  "kernelspec": {
   "display_name": "Python 3 (ipykernel)",
   "language": "python",
   "name": "python3"
  },
  "language_info": {
   "codemirror_mode": {
    "name": "ipython",
    "version": 3
   },
   "file_extension": ".py",
   "mimetype": "text/x-python",
   "name": "python",
   "nbconvert_exporter": "python",
   "pygments_lexer": "ipython3",
   "version": "3.9.6"
  }
 },
 "nbformat": 4,
 "nbformat_minor": 5
}
